{
 "cells": [
  {
   "cell_type": "code",
   "execution_count": 5,
   "metadata": {},
   "outputs": [],
   "source": [
    "import pandas as pd\n",
    "import numpy as np\n",
    "import matplotlib.pyplot as plt\n",
    "import seaborn as sns\n",
    "\n",
    "from sklearn.metrics import confusion_matrix\n",
    "import seaborn as sns\n",
    "import matplotlib.pyplot as plt\n",
    "\n",
    "from sklearn.model_selection import GridSearchCV\n",
    "from sklearn.linear_model import LogisticRegression\n",
    "from sklearn.tree import DecisionTreeClassifier\n",
    "from sklearn.ensemble import RandomForestClassifier\n",
    "from sklearn.neighbors import KNeighborsClassifier\n",
    "from sklearn.naive_bayes import MultinomialNB\n",
    "from sklearn.svm import SVC\n",
    "# import F1 score\n",
    "from sklearn.metrics import f1_score, accuracy_score, recall_score, precision_score\n",
    "# import train\n",
    "from sklearn.model_selection import train_test_split\n",
    "# remove warnings\n",
    "import warnings\n",
    "# ignore all warnings\n",
    "warnings.filterwarnings('ignore')\n",
    "\n",
    "\n",
    "from sklearn.preprocessing import StandardScaler, OneHotEncoder\n",
    "from sklearn.preprocessing import MinMaxScaler\n",
    "\n",
    "from sklearn.compose import make_column_transformer\n",
    "import numpy as np\n",
    "import pandas as pd  \n",
    "\n",
    "\n",
    "\n",
    "# import labelencoder\n",
    "from sklearn.preprocessing import LabelEncoder"
   ]
  },
  {
   "cell_type": "code",
   "execution_count": 6,
   "metadata": {},
   "outputs": [],
   "source": [
    "df = pd.read_csv('merged_df.csv', index_col=None)\n",
    "# remove "
   ]
  },
  {
   "cell_type": "code",
   "execution_count": 7,
   "metadata": {},
   "outputs": [
    {
     "data": {
      "image/png": "[encoded data removed]",
      "text/plain": [
       "<Figure size 640x480 with 1 Axes>"
      ]
     },
     "metadata": {},
     "output_type": "display_data"
    }
   ],
   "source": [
    "# looking at academic grade distribution\n",
    "\n",
    "df[\"academicGrade\"].value_counts()\n",
    "\n",
    "# plot the distribution of academic grade\n",
    "sns.countplot(x=df['academicGrade'], data=df)\n",
    "plt.title('Academic Grade Distribution')\n",
    "plt.show()\n",
    "# Variables are not equally distributed, so we need to balance them"
   ]
  },
  {
   "cell_type": "code",
   "execution_count": 8,
   "metadata": {},
   "outputs": [],
   "source": [
    "# remove absence_range, finalResult, \n",
    "df = df.drop(['absences_range', 'finalResult'], axis=1)\n",
    "df = df[df['absences'] < 20]"
   ]
  },
  {
   "attachments": {},
   "cell_type": "markdown",
   "metadata": {},
   "source": [
    "### Data Transformation from non-object to object"
   ]
  },
  {
   "cell_type": "code",
   "execution_count": 9,
   "metadata": {},
   "outputs": [],
   "source": [
    "# display only columns that are other than object\n",
    "df.select_dtypes(exclude=['object']).columns\n",
    "\n",
    "#  transform all non object to object type\n",
    "df[['Medu', 'Fedu', 'traveltime', 'studytime', 'failures', 'famrel','freetime', 'goout', 'Dalc', 'Walc', 'health']] = df[['Medu', 'Fedu', 'traveltime', 'studytime', 'failures', 'famrel','freetime', 'goout', 'Dalc', 'Walc', 'health']].astype('object') "
   ]
  },
  {
   "cell_type": "code",
   "execution_count": 6,
   "metadata": {},
   "outputs": [
    {
     "data": {
      "text/plain": [
       "Index(['age', 'absences', 'G1', 'G2', 'G3'], dtype='object')"
      ]
     },
     "execution_count": 6,
     "metadata": {},
     "output_type": "execute_result"
    }
   ],
   "source": [
    "df.select_dtypes(exclude=['object']).columns"
   ]
  },
  {
   "attachments": {},
   "cell_type": "markdown",
   "metadata": {},
   "source": [
    "### Selecting the columns categorical and numerical"
   ]
  },
  {
   "cell_type": "code",
   "execution_count": 7,
   "metadata": {},
   "outputs": [],
   "source": [
    "columns_cat = df[['school', 'sex', 'address', 'famsize', 'Pstatus', 'Medu', 'Fedu',\n",
    "       'Mjob', 'Fjob', 'reason', 'guardian', 'traveltime', 'studytime',\n",
    "       'failures', 'schoolsup', 'famsup', 'paid', 'activities', 'nursery',\n",
    "       'higher', 'internet', 'romantic', 'famrel', 'freetime', 'goout', 'Dalc',\n",
    "       'Walc', 'health', 'G1', 'G2', 'G3',\n",
    "       'academicGrade']]\n",
    "\n",
    "continue_cols = df[['age','absences', 'G1', 'G2', 'G3']]"
   ]
  },
  {
   "attachments": {},
   "cell_type": "markdown",
   "metadata": {},
   "source": [
    "### Column Transformer\n",
    "* MinMaxScaler is used to scale the numerical columns between 0 and 1\n",
    "* OneHotEncoder is used to transform the categorical columns into numerical columns"
   ]
  },
  {
   "cell_type": "code",
   "execution_count": 8,
   "metadata": {},
   "outputs": [],
   "source": [
    "X = df.drop('academicGrade', axis=1)\n",
    "ct = make_column_transformer(\n",
    "      (MinMaxScaler(),\n",
    "       make_column_selector(dtype_include=np.number)),\n",
    "      (OneHotEncoder(),\n",
    "       make_column_selector(dtype_include=object)))\n",
    "\n",
    "# Apply the column transformer to the data\n",
    "X_preprocessed = ct.fit_transform(X)  \n",
    "\n",
    "# Create a new dataframe with the preprocessing applied\n",
    "feature_names = ct.get_feature_names_out()\n",
    "new_df = pd.DataFrame(X_preprocessed, columns=feature_names)"
   ]
  },
  {
   "attachments": {},
   "cell_type": "markdown",
   "metadata": {},
   "source": [
    "### Pipeline of AI multi-classification model with the following steps:\n",
    "* X is the preprocessed data and y is the target\n",
    "* Splitting the data into train and test (80% and 20%), stratifying the target to have the same proportion of classes in both sets and shuffling the data for better results\n",
    "* Dictionnary of the models parameters will be passed to the GridSearchCV\n",
    "* print the result and display the chart of the best model"
   ]
  },
  {
   "cell_type": "code",
   "execution_count": 9,
   "metadata": {},
   "outputs": [
    {
     "name": "stdout",
     "output_type": "stream",
     "text": [
      "Fitting 5 folds for each of 12 candidates, totalling 60 fits\n"
     ]
    },
    {
     "name": "stderr",
     "output_type": "stream",
     "text": [
      "/home/codespace/.local/lib/python3.10/site-packages/sklearn/linear_model/_sag.py:350: ConvergenceWarning: The max_iter was reached which means the coef_ did not converge\n",
      "  warnings.warn(\n",
      "/home/codespace/.local/lib/python3.10/site-packages/sklearn/linear_model/_sag.py:350: ConvergenceWarning: The max_iter was reached which means the coef_ did not converge\n",
      "  warnings.warn(\n",
      "/home/codespace/.local/lib/python3.10/site-packages/sklearn/linear_model/_sag.py:350: ConvergenceWarning: The max_iter was reached which means the coef_ did not converge\n",
      "  warnings.warn(\n",
      "/home/codespace/.local/lib/python3.10/site-packages/sklearn/linear_model/_sag.py:350: ConvergenceWarning: The max_iter was reached which means the coef_ did not converge\n",
      "  warnings.warn(\n",
      "/home/codespace/.local/lib/python3.10/site-packages/sklearn/linear_model/_sag.py:350: ConvergenceWarning: The max_iter was reached which means the coef_ did not converge\n",
      "  warnings.warn(\n",
      "/home/codespace/.local/lib/python3.10/site-packages/sklearn/linear_model/_sag.py:350: ConvergenceWarning: The max_iter was reached which means the coef_ did not converge\n",
      "  warnings.warn(\n",
      "/home/codespace/.local/lib/python3.10/site-packages/sklearn/linear_model/_sag.py:350: ConvergenceWarning: The max_iter was reached which means the coef_ did not converge\n",
      "  warnings.warn(\n",
      "/home/codespace/.local/lib/python3.10/site-packages/sklearn/linear_model/_sag.py:350: ConvergenceWarning: The max_iter was reached which means the coef_ did not converge\n",
      "  warnings.warn(\n",
      "/home/codespace/.local/lib/python3.10/site-packages/sklearn/linear_model/_sag.py:350: ConvergenceWarning: The max_iter was reached which means the coef_ did not converge\n",
      "  warnings.warn(\n",
      "/home/codespace/.local/lib/python3.10/site-packages/sklearn/linear_model/_sag.py:350: ConvergenceWarning: The max_iter was reached which means the coef_ did not converge\n",
      "  warnings.warn(\n",
      "/home/codespace/.local/lib/python3.10/site-packages/sklearn/linear_model/_sag.py:350: ConvergenceWarning: The max_iter was reached which means the coef_ did not converge\n",
      "  warnings.warn(\n",
      "/home/codespace/.local/lib/python3.10/site-packages/sklearn/linear_model/_sag.py:350: ConvergenceWarning: The max_iter was reached which means the coef_ did not converge\n",
      "  warnings.warn(\n",
      "/home/codespace/.local/lib/python3.10/site-packages/sklearn/linear_model/_sag.py:350: ConvergenceWarning: The max_iter was reached which means the coef_ did not converge\n",
      "  warnings.warn(\n",
      "/home/codespace/.local/lib/python3.10/site-packages/sklearn/linear_model/_sag.py:350: ConvergenceWarning: The max_iter was reached which means the coef_ did not converge\n",
      "  warnings.warn(\n",
      "/home/codespace/.local/lib/python3.10/site-packages/sklearn/linear_model/_sag.py:350: ConvergenceWarning: The max_iter was reached which means the coef_ did not converge\n",
      "  warnings.warn(\n",
      "/home/codespace/.local/lib/python3.10/site-packages/sklearn/linear_model/_sag.py:350: ConvergenceWarning: The max_iter was reached which means the coef_ did not converge\n",
      "  warnings.warn(\n",
      "/home/codespace/.local/lib/python3.10/site-packages/sklearn/linear_model/_sag.py:350: ConvergenceWarning: The max_iter was reached which means the coef_ did not converge\n",
      "  warnings.warn(\n",
      "/home/codespace/.local/lib/python3.10/site-packages/sklearn/linear_model/_sag.py:350: ConvergenceWarning: The max_iter was reached which means the coef_ did not converge\n",
      "  warnings.warn(\n",
      "/home/codespace/.local/lib/python3.10/site-packages/sklearn/linear_model/_sag.py:350: ConvergenceWarning: The max_iter was reached which means the coef_ did not converge\n",
      "  warnings.warn(\n",
      "/home/codespace/.local/lib/python3.10/site-packages/sklearn/linear_model/_sag.py:350: ConvergenceWarning: The max_iter was reached which means the coef_ did not converge\n",
      "  warnings.warn(\n",
      "/home/codespace/.local/lib/python3.10/site-packages/sklearn/linear_model/_sag.py:350: ConvergenceWarning: The max_iter was reached which means the coef_ did not converge\n",
      "  warnings.warn(\n",
      "/home/codespace/.local/lib/python3.10/site-packages/sklearn/linear_model/_sag.py:350: ConvergenceWarning: The max_iter was reached which means the coef_ did not converge\n",
      "  warnings.warn(\n",
      "/home/codespace/.local/lib/python3.10/site-packages/sklearn/linear_model/_sag.py:350: ConvergenceWarning: The max_iter was reached which means the coef_ did not converge\n",
      "  warnings.warn(\n",
      "/home/codespace/.local/lib/python3.10/site-packages/sklearn/linear_model/_sag.py:350: ConvergenceWarning: The max_iter was reached which means the coef_ did not converge\n",
      "  warnings.warn(\n",
      "/home/codespace/.local/lib/python3.10/site-packages/sklearn/linear_model/_sag.py:350: ConvergenceWarning: The max_iter was reached which means the coef_ did not converge\n",
      "  warnings.warn(\n",
      "/home/codespace/.local/lib/python3.10/site-packages/sklearn/linear_model/_sag.py:350: ConvergenceWarning: The max_iter was reached which means the coef_ did not converge\n",
      "  warnings.warn(\n",
      "/home/codespace/.local/lib/python3.10/site-packages/sklearn/linear_model/_sag.py:350: ConvergenceWarning: The max_iter was reached which means the coef_ did not converge\n",
      "  warnings.warn(\n",
      "/home/codespace/.local/lib/python3.10/site-packages/sklearn/linear_model/_sag.py:350: ConvergenceWarning: The max_iter was reached which means the coef_ did not converge\n",
      "  warnings.warn(\n",
      "/home/codespace/.local/lib/python3.10/site-packages/sklearn/linear_model/_sag.py:350: ConvergenceWarning: The max_iter was reached which means the coef_ did not converge\n",
      "  warnings.warn(\n",
      "/home/codespace/.local/lib/python3.10/site-packages/sklearn/linear_model/_sag.py:350: ConvergenceWarning: The max_iter was reached which means the coef_ did not converge\n",
      "  warnings.warn(\n"
     ]
    },
    {
     "name": "stdout",
     "output_type": "stream",
     "text": [
      "F1 score for LogisticRegression on train set: 0.8702709547226645\n",
      "F1 score for LogisticRegression on test set: 0.773630266343385\n",
      "Best parameters for LogisticRegression : {'C': 1.0, 'penalty': 'l1', 'solver': 'saga'}\n",
      "---------------------------------------------\n",
      "Fitting 5 folds for each of 18 candidates, totalling 90 fits\n",
      "F1 score for DecisionTreeClassifier on train set: 1.0\n",
      "F1 score for DecisionTreeClassifier on test set: 1.0\n",
      "Best parameters for DecisionTreeClassifier : {'criterion': 'gini', 'max_depth': None, 'min_samples_split': 2}\n",
      "---------------------------------------------\n",
      "Fitting 5 folds for each of 27 candidates, totalling 135 fits\n",
      "F1 score for RandomForestClassifier on train set: 1.0\n",
      "F1 score for RandomForestClassifier on test set: 0.9560896136519065\n",
      "Best parameters for RandomForestClassifier : {'max_depth': 10, 'min_samples_split': 2, 'n_estimators': 200}\n",
      "---------------------------------------------\n",
      "Fitting 5 folds for each of 18 candidates, totalling 90 fits\n",
      "F1 score for KNeighborsClassifier on train set: 0.5775377727007879\n",
      "F1 score for KNeighborsClassifier on test set: 0.36175676997156275\n",
      "Best parameters for KNeighborsClassifier : {'algorithm': 'ball_tree', 'n_neighbors': 5, 'weights': 'uniform'}\n",
      "---------------------------------------------\n",
      "Fitting 5 folds for each of 6 candidates, totalling 30 fits\n",
      "F1 score for MultinomialNB on train set: 0.43183024344811044\n",
      "F1 score for MultinomialNB on test set: 0.34753488514099656\n",
      "Best parameters for MultinomialNB : {'alpha': 0.1, 'fit_prior': True}\n",
      "---------------------------------------------\n",
      "Fitting 5 folds for each of 54 candidates, totalling 270 fits\n",
      "F1 score for SVC on train set: 0.9631663578838399\n",
      "F1 score for SVC on test set: 0.8276093166795254\n",
      "Best parameters for SVC : {'C': 10.0, 'degree': 2, 'gamma': 'scale', 'kernel': 'linear'}\n",
      "---------------------------------------------\n",
      "Fitting 5 folds for each of 81 candidates, totalling 405 fits\n",
      "F1 score for GradientBoostingClassifier on train set: 1.0\n",
      "F1 score for GradientBoostingClassifier on test set: 1.0\n",
      "Best parameters for GradientBoostingClassifier : {'learning_rate': 0.1, 'max_depth': None, 'min_samples_split': 2, 'n_estimators': 50}\n",
      "---------------------------------------------\n",
      "Fitting 5 folds for each of 9 candidates, totalling 45 fits\n",
      "F1 score for AdaBoostClassifier on train set: 0.7715336311257849\n",
      "F1 score for AdaBoostClassifier on test set: 0.7740112994350281\n",
      "Best parameters for AdaBoostClassifier : {'learning_rate': 1.0, 'n_estimators': 50}\n",
      "---------------------------------------------\n"
     ]
    },
    {
     "data": {
      "image/png": "[encoded data removed]",
      "text/plain": [
       "<Figure size 640x480 with 1 Axes>"
      ]
     },
     "metadata": {},
     "output_type": "display_data"
    }
   ],
   "source": [
    "X = new_df\n",
    "y = df['academicGrade']\n",
    "\n",
    "le = LabelEncoder()\n",
    "y = le.fit_transform(y)\n",
    "\n",
    "\n",
    "X_train, X_test, y_train, y_test = train_test_split(X, y, test_size=0.2, random_state=101, stratify=y, shuffle=True)\n",
    "\n",
    "# Define the parameter grids for each algorithm\n",
    "lr_params = {\n",
    "    'penalty': ['l1', 'l2'],\n",
    "    'C': [0.1, 1.0, 10.0],\n",
    "    'solver': ['liblinear', 'saga']\n",
    "}\n",
    "\n",
    "dt_params = {\n",
    "    'criterion': ['gini', 'entropy'],\n",
    "    'max_depth': [None, 5, 10],\n",
    "    'min_samples_split': [2, 5, 10]\n",
    "}\n",
    "\n",
    "rf_params = {\n",
    "    'n_estimators': [50, 100, 200],\n",
    "    'max_depth': [None, 5, 10],\n",
    "    'min_samples_split': [2, 5, 10]\n",
    "}\n",
    "\n",
    "knn_params = {\n",
    "    'n_neighbors': [3, 5, 7],\n",
    "    'weights': ['uniform', 'distance'],\n",
    "    'algorithm': ['ball_tree', 'kd_tree', 'brute']\n",
    "}\n",
    "\n",
    "nb_params = {\n",
    "    'alpha': [0.1, 0.5, 1.0],\n",
    "    'fit_prior': [True, False]\n",
    "}\n",
    "\n",
    "svm_params = {\n",
    "    'C': [0.1, 1.0, 10.0],\n",
    "    'kernel': ['linear', 'rbf', 'poly'],\n",
    "    'degree': [2, 3, 4],\n",
    "    'gamma': ['scale', 'auto']\n",
    "}\n",
    "\n",
    "# add gradient boosting and adaboost\n",
    "from sklearn.ensemble import GradientBoostingClassifier, AdaBoostClassifier\n",
    "gb_params = {\n",
    "    'n_estimators': [50, 100, 200],\n",
    "    'learning_rate': [0.1, 0.5, 1.0],\n",
    "    'max_depth': [None, 5, 10],\n",
    "    'min_samples_split': [2, 5, 10]\n",
    "}\n",
    "\n",
    "ab_params = {\n",
    "    'n_estimators': [50, 100, 200],\n",
    "    'learning_rate': [0.1, 0.5, 1.0]\n",
    "}\n",
    "\n",
    "\n",
    "# Create a list of models and their corresponding parameter grids\n",
    "models = [\n",
    "    (LogisticRegression(), lr_params),\n",
    "    (DecisionTreeClassifier(), dt_params),\n",
    "    (RandomForestClassifier(), rf_params),\n",
    "    (KNeighborsClassifier(), knn_params),\n",
    "    (MultinomialNB(), nb_params),\n",
    "    (SVC(), svm_params),\n",
    "    (GradientBoostingClassifier(), gb_params),\n",
    "    (AdaBoostClassifier(), ab_params)\n",
    "]\n",
    "\n",
    "# Create lists to store the train and test scores for each model\n",
    "train_scores = []\n",
    "test_scores = []\n",
    "\n",
    "# Loop over the models and their parameter grids from above\n",
    "for model, param_grid in models:\n",
    "    grid = GridSearchCV(model, param_grid, cv=5, verbose=1, n_jobs=-1) # n_jobs=-1 means use all processors\n",
    "    grid.fit(X_train, y_train)\n",
    "    \n",
    "    # get the F1 score on the train set\n",
    "    y_train_pred = grid.predict(X_train)\n",
    "    train_f1 = f1_score(y_train, y_train_pred, average='weighted') # average='weighted' takes label imbalance into account\n",
    "    train_scores.append(train_f1)\n",
    "    \n",
    "    # get the F1 score on the test set\n",
    "    y_test_pred = grid.predict(X_test)\n",
    "    test_f1 = f1_score(y_test, y_test_pred, average='weighted')\n",
    "    test_scores.append(test_f1)\n",
    "    \n",
    "    # print the results\n",
    "    print(\"F1 score for\", model.__class__.__name__, \"on train set:\", train_f1)\n",
    "    print(\"F1 score for\", model.__class__.__name__, \"on test set:\", test_f1)\n",
    "    print(\"Best parameters for\", model.__class__.__name__, \":\", grid.best_params_)\n",
    "    print(\"---------------------------------------------\")\n",
    "    \n",
    "# plot the results of the best model\n",
    "model_names = [model.__class__.__name__ for model, _ in models]\n",
    "plt.bar(model_names, train_scores, label='Train')\n",
    "plt.bar(model_names, test_scores, label='Test')\n",
    "plt.xticks(rotation=90)\n",
    "plt.ylabel('F1 Score')\n",
    "plt.legend()\n",
    "plt.show()\n"
   ]
  },
  {
   "attachments": {},
   "cell_type": "markdown",
   "metadata": {},
   "source": [
    "### Confusion matrix"
   ]
  },
  {
   "cell_type": "code",
   "execution_count": 19,
   "metadata": {},
   "outputs": [
    {
     "data": {
      "image/png": "[encoded data removed]",
      "text/plain": [
       "<Figure size 640x480 with 2 Axes>"
      ]
     },
     "metadata": {},
     "output_type": "display_data"
    }
   ],
   "source": [
    "# choose gradient boosting model and its parameter grid \n",
    "# create the model\n",
    "model = GradientBoostingClassifier(learning_rate=0.1, max_depth=None, min_samples_split=2, n_estimators=50)\n",
    "\n",
    "# create the parameter grid\n",
    "\n",
    "# train the model \n",
    "model.fit(X_train, y_train)\n",
    "\n",
    "# make predictions on the test set\n",
    "y_pred = model.predict(X_test)\n",
    "\n",
    "# compute the confusion matrix\n",
    "cm = confusion_matrix(y_test, y_pred)\n",
    "\n",
    "# plot the confusion matrix as a heatmap\n",
    "sns.heatmap(cm, annot=True, cmap='Blues', fmt='g', xticklabels=['A', 'B', 'C','D', 'E'], yticklabels=['A', 'B', 'C','D', 'E'])\n",
    "\n",
    "plt.xlabel('Predicted')\n",
    "plt.ylabel('Actual')\n",
    "plt.show()\n"
   ]
  }
 ],
 "metadata": {
  "kernelspec": {
   "display_name": "Python 3",
   "language": "python",
   "name": "python3"
  },
  "language_info": {
   "codemirror_mode": {
    "name": "ipython",
    "version": 3
   },
   "file_extension": ".py",
   "mimetype": "text/x-python",
   "name": "python",
   "nbconvert_exporter": "python",
   "pygments_lexer": "ipython3",
   "version": "3.10.4"
  },
  "orig_nbformat": 4
 },
 "nbformat": 4,
 "nbformat_minor": 2
}
